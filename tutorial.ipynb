{
 "cells": [
  {
   "cell_type": "markdown",
   "metadata": {},
   "source": [
    "# Advance Python"
   ]
  },
  {
   "cell_type": "markdown",
   "metadata": {},
   "source": [
    "Advance Python is a collection of deeper concepts in Python. It is the NEXT step for Python learners who have already learnt the basics."
   ]
  },
  {
   "cell_type": "markdown",
   "metadata": {},
   "source": [
    "# Table of Contents\n",
    "\n",
    "#### 1) Args and Kwargs\n",
    "#### 2) Generators"
   ]
  },
  {
   "cell_type": "markdown",
   "metadata": {},
   "source": [
    "## Chapter 1 - Args and Kwargs\n",
    "You must have frequently seen such things in Python.\n",
    "\n",
    "```\n",
    "def function_name(*args, *kwargs):\n",
    "    # body\n",
    "```\n",
    "Confused with these notations? Don't worry. We all have been there.\n",
    "\n",
    "First of all, it is not mandatory to write the words `args` and `kwargs`. You can go with anything unless you have the asterisk (`*`) sign.\n",
    "\n",
    "#### What is an asterisk (`*`) in Python?\n",
    "\n",
    "https://stackoverflow.com/questions/400739/what-does-asterisk-mean-in-python <br>\n",
    "https://stackoverflow.com/questions/36901/what-does-double-star-asterisk-and-star-asterisk-do-for-parameters\n",
    "\n",
    "...\n",
    "\n",
    "#### So, what is `*args` doing?\n",
    "`*args` allows you to pass a desired number of arguments to the function. Let's see an example."
   ]
  },
  {
   "cell_type": "code",
   "execution_count": 1,
   "metadata": {},
   "outputs": [],
   "source": [
    "def demo(*args):\n",
    "    print(args)"
   ]
  },
  {
   "cell_type": "code",
   "execution_count": 2,
   "metadata": {},
   "outputs": [
    {
     "name": "stdout",
     "output_type": "stream",
     "text": [
      "('Humpty', 'Dumpty')\n"
     ]
    }
   ],
   "source": [
    "demo(\"Humpty\", \"Dumpty\")"
   ]
  },
  {
   "cell_type": "code",
   "execution_count": 3,
   "metadata": {},
   "outputs": [
    {
     "name": "stdout",
     "output_type": "stream",
     "text": [
      "('Humpty', 'Dumpty', 'Sat', 'On', 'The', 'Wall')\n"
     ]
    }
   ],
   "source": [
    "demo(\"Humpty\", \"Dumpty\", \"Sat\", \"On\", \"The\", \"Wall\")"
   ]
  },
  {
   "cell_type": "markdown",
   "metadata": {},
   "source": [
    "#### Thus, regardless of number of arguments passed, `*args` is showing you the result.\n",
    "Doesn't matter if you pass `(\"Humpty\", \"Dumpty\")` or `(\"Humpty\", \"Dumpty\", \"Sat\", \"On\", \"The\", \"Wall\")`, `*args` will handle that for you.\n",
    "Note: As mentioned, you can write anything and not just `args`. Let's try `*whatever`."
   ]
  },
  {
   "cell_type": "code",
   "execution_count": 4,
   "metadata": {},
   "outputs": [
    {
     "name": "stdout",
     "output_type": "stream",
     "text": [
      "('Humpty', 'Dumpty', 'Sat', 'On', 'The', 'Wall')\n"
     ]
    }
   ],
   "source": [
    "def demo(*whatever):\n",
    "    print(whatever)\n",
    "\n",
    "demo(\"Humpty\", \"Dumpty\", \"Sat\", \"On\", \"The\", \"Wall\")"
   ]
  },
  {
   "cell_type": "markdown",
   "metadata": {},
   "source": [
    "And that's perfectly fine!"
   ]
  },
  {
   "cell_type": "markdown",
   "metadata": {},
   "source": [
    "Let's write a function that sums up as many inputs as we want."
   ]
  },
  {
   "cell_type": "code",
   "execution_count": 5,
   "metadata": {},
   "outputs": [
    {
     "data": {
      "text/plain": [
       "15"
      ]
     },
     "execution_count": 5,
     "metadata": {},
     "output_type": "execute_result"
    }
   ],
   "source": [
    "def sum(*args):\n",
    "    c = 0\n",
    "    for arg in args:\n",
    "        c+=arg\n",
    "    return c\n",
    "\n",
    "sum(1,2,3,4,5)\n"
   ]
  },
  {
   "cell_type": "code",
   "execution_count": 6,
   "metadata": {},
   "outputs": [
    {
     "data": {
      "text/plain": [
       "55"
      ]
     },
     "execution_count": 6,
     "metadata": {},
     "output_type": "execute_result"
    }
   ],
   "source": [
    "sum(1,2,3,4,5,6,7,8,9,10)"
   ]
  },
  {
   "cell_type": "markdown",
   "metadata": {},
   "source": [
    "Doesn't matter if you sum 1 to 5 or 1 to 10, Python will calculate the result for you irrespective of the number of paramters. This is the beauty of `*args`.\n",
    "What about `**kwargs`?\n",
    "Well, they are not much different. Let's try an example."
   ]
  },
  {
   "cell_type": "code",
   "execution_count": 7,
   "metadata": {},
   "outputs": [
    {
     "name": "stdout",
     "output_type": "stream",
     "text": [
      "{'name': 'Humpty', 'location': 'Wall'}\n"
     ]
    }
   ],
   "source": [
    "def demo(**kwargs):\n",
    "    print(kwargs)\n",
    "\n",
    "demo(name=\"Humpty\", location=\"Wall\")"
   ]
  },
  {
   "cell_type": "markdown",
   "metadata": {},
   "source": [
    "`**kwargs` stands for keyword arguments. The only difference is that it uses keywords and returns the values in the form of a dictionary.\n",
    "\n",
    "Now, lets write a normal function and pass arguments through `args` and `kwargs`."
   ]
  },
  {
   "cell_type": "code",
   "execution_count": 8,
   "metadata": {},
   "outputs": [],
   "source": [
    "def list_numbers(first, second, third):\n",
    "    print(\"First number\", first)\n",
    "    print(\"Second number\", second)\n",
    "    print(\"Third number\", third)"
   ]
  },
  {
   "cell_type": "code",
   "execution_count": 9,
   "metadata": {},
   "outputs": [
    {
     "name": "stdout",
     "output_type": "stream",
     "text": [
      "First number One\n",
      "Second number Two\n",
      "Third number Three\n"
     ]
    }
   ],
   "source": [
    "args = (\"One\",\"Two\",\"Three\")\n",
    "list_numbers(*args)"
   ]
  },
  {
   "cell_type": "code",
   "execution_count": 10,
   "metadata": {},
   "outputs": [
    {
     "name": "stdout",
     "output_type": "stream",
     "text": [
      "First number One\n",
      "Second number Two\n",
      "Third number Three\n"
     ]
    }
   ],
   "source": [
    "kwargs = {\"third\": \"Three\", \"second\": \"Two\", \"first\": \"One\"}\n",
    "list_numbers(**kwargs)"
   ]
  },
  {
   "cell_type": "markdown",
   "metadata": {},
   "source": [
    "## Chapter 2 - Generators"
   ]
  },
  {
   "cell_type": "code",
   "execution_count": null,
   "metadata": {},
   "outputs": [],
   "source": []
  }
 ],
 "metadata": {
  "kernelspec": {
   "display_name": "Python 3",
   "language": "python",
   "name": "python3"
  },
  "language_info": {
   "codemirror_mode": {
    "name": "ipython",
    "version": 3
   },
   "file_extension": ".py",
   "mimetype": "text/x-python",
   "name": "python",
   "nbconvert_exporter": "python",
   "pygments_lexer": "ipython3",
   "version": "3.6.5"
  }
 },
 "nbformat": 4,
 "nbformat_minor": 2
}
